{
 "cells": [
  {
   "cell_type": "markdown",
   "id": "eb90ef02-c02e-46b7-9dd7-f337a808b665",
   "metadata": {},
   "source": [
    "## Initial setup"
   ]
  },
  {
   "cell_type": "code",
   "execution_count": null,
   "id": "dd537791-434f-4d04-bda5-9f341777ab76",
   "metadata": {},
   "outputs": [],
   "source": [
    "# configurations done in original Docker\n",
    "export LD_LIBRARY_PATH=\"/usr/local/lib\"\n",
    "export CFLAGS=\"-I/usr/local/include\"\n",
    "export LDFLAGS=\"-L/usr/local/lib\""
   ]
  },
  {
   "cell_type": "code",
   "execution_count": null,
   "id": "bea56a57-bea9-4228-99f7-e0a6e8e5129f",
   "metadata": {},
   "outputs": [],
   "source": [
    "# activate Conda environment\n",
    "conda activate ClusteredNetwork_pub"
   ]
  },
  {
   "cell_type": "markdown",
   "id": "b8824eda-ad88-4a9b-8ba0-cb8e5ca1a793",
   "metadata": {},
   "source": [
    "## Download dataset and code\n",
    "This sets things up according to [nawrotlab/ClusteredNetwork_pub](https://github.com/nawrotlab/ClusteredNetwork_pub) README"
   ]
  },
  {
   "cell_type": "markdown",
   "id": "f6b26ac6-518b-4b67-a709-e8a3503fc140",
   "metadata": {},
   "source": [
    "Obtain code"
   ]
  },
  {
   "cell_type": "code",
   "execution_count": null,
   "id": "9468db0c-05e5-4c38-b6ab-e9e02822f515",
   "metadata": {},
   "outputs": [],
   "source": [
    "git clone https://github.com/nawrotlab/ClusteredNetwork_pub.git"
   ]
  },
  {
   "cell_type": "markdown",
   "id": "9a470624-48e4-424e-8fff-ef6daa35768b",
   "metadata": {},
   "source": [
    "Obtain data + create expected folders for outputs"
   ]
  },
  {
   "cell_type": "code",
   "execution_count": null,
   "id": "13654c4c-545e-4b62-816d-a648379ba158",
   "metadata": {},
   "outputs": [],
   "source": [
    "cd ~/ClusteredNetwork_pub/\n",
    "mkdir data\n",
    "# clone the raw data repository from GIN, and link its content under `data`\n",
    "git clone https://gin.g-node.org/nawrotlab/delayed_center-out_uncertainty_Riehle\n",
    "ln -r -s delayed_center-out_uncertainty_Riehle/pickle data/experimental_data\n",
    "# create an empty directory for preprocessed and simulated data\n",
    "mkdir data/preprocessed_and_simulated_data"
   ]
  },
  {
   "cell_type": "markdown",
   "id": "d32056c9-484a-451d-a364-34576adae756",
   "metadata": {},
   "source": [
    "## Run the code\n",
    "Run the Figure 3 reproducer. Note: in Binder, it may take up to 15 minutes."
   ]
  },
  {
   "cell_type": "code",
   "execution_count": null,
   "id": "94ea8595-9537-47ce-9e82-2db26859ea8d",
   "metadata": {},
   "outputs": [],
   "source": [
    "# code needs to be run from the fig_codes directory\n",
    "cd ./fig_codes/\n",
    "pwd"
   ]
  },
  {
   "cell_type": "code",
   "execution_count": null,
   "id": "efd35618-974a-4ae7-a09c-6b226186f33a",
   "metadata": {},
   "outputs": [],
   "source": [
    "# remove the figure to make it clear that we generate it here and now\n",
    "rm ./fig3.pdf"
   ]
  },
  {
   "cell_type": "code",
   "execution_count": null,
   "id": "d50f484b-a48d-4738-9e87-4ec1dae551b4",
   "metadata": {},
   "outputs": [],
   "source": [
    "python ./fig3.py"
   ]
  },
  {
   "cell_type": "code",
   "execution_count": null,
   "id": "9c803809-5302-4848-8c88-bae37ab96a80",
   "metadata": {},
   "outputs": [],
   "source": [
    "# show that fig3 was generated now\n",
    "ls -lh | grep fig3"
   ]
  },
  {
   "cell_type": "code",
   "execution_count": null,
   "id": "2e5de07c-4537-4996-911c-723dd42608de",
   "metadata": {},
   "outputs": [],
   "source": []
  }
 ],
 "metadata": {
  "kernelspec": {
   "display_name": "Bash",
   "language": "bash",
   "name": "bash"
  },
  "language_info": {
   "codemirror_mode": "shell",
   "file_extension": ".sh",
   "mimetype": "text/x-sh",
   "name": "bash"
  }
 },
 "nbformat": 4,
 "nbformat_minor": 5
}
